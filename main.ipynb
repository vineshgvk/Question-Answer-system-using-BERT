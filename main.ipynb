{
  "cells": [
    {
      "cell_type": "code",
      "execution_count": 78,
      "metadata": {
        "colab": {
          "base_uri": "https://localhost:8080/"
        },
        "id": "-8IIxeudOZWd",
        "outputId": "51ee5c42-8ff5-413c-cc39-c5214a62a7ed"
      },
      "outputs": [
        {
          "name": "stdout",
          "output_type": "stream",
          "text": [
            "Requirement already satisfied: sentence_transformers in /usr/local/lib/python3.10/dist-packages (2.2.2)\n",
            "Requirement already satisfied: transformers<5.0.0,>=4.6.0 in /usr/local/lib/python3.10/dist-packages (from sentence_transformers) (4.35.2)\n",
            "Requirement already satisfied: tqdm in /usr/local/lib/python3.10/dist-packages (from sentence_transformers) (4.66.1)\n",
            "Requirement already satisfied: torch>=1.6.0 in /usr/local/lib/python3.10/dist-packages (from sentence_transformers) (2.1.0+cu118)\n",
            "Requirement already satisfied: torchvision in /usr/local/lib/python3.10/dist-packages (from sentence_transformers) (0.16.0+cu118)\n",
            "Requirement already satisfied: numpy in /usr/local/lib/python3.10/dist-packages (from sentence_transformers) (1.23.5)\n",
            "Requirement already satisfied: scikit-learn in /usr/local/lib/python3.10/dist-packages (from sentence_transformers) (1.2.2)\n",
            "Requirement already satisfied: scipy in /usr/local/lib/python3.10/dist-packages (from sentence_transformers) (1.11.4)\n",
            "Requirement already satisfied: nltk in /usr/local/lib/python3.10/dist-packages (from sentence_transformers) (3.8.1)\n",
            "Requirement already satisfied: sentencepiece in /usr/local/lib/python3.10/dist-packages (from sentence_transformers) (0.1.99)\n",
            "Requirement already satisfied: huggingface-hub>=0.4.0 in /usr/local/lib/python3.10/dist-packages (from sentence_transformers) (0.19.4)\n",
            "Requirement already satisfied: filelock in /usr/local/lib/python3.10/dist-packages (from huggingface-hub>=0.4.0->sentence_transformers) (3.13.1)\n",
            "Requirement already satisfied: fsspec>=2023.5.0 in /usr/local/lib/python3.10/dist-packages (from huggingface-hub>=0.4.0->sentence_transformers) (2023.6.0)\n",
            "Requirement already satisfied: requests in /usr/local/lib/python3.10/dist-packages (from huggingface-hub>=0.4.0->sentence_transformers) (2.31.0)\n",
            "Requirement already satisfied: pyyaml>=5.1 in /usr/local/lib/python3.10/dist-packages (from huggingface-hub>=0.4.0->sentence_transformers) (6.0.1)\n",
            "Requirement already satisfied: typing-extensions>=3.7.4.3 in /usr/local/lib/python3.10/dist-packages (from huggingface-hub>=0.4.0->sentence_transformers) (4.5.0)\n",
            "Requirement already satisfied: packaging>=20.9 in /usr/local/lib/python3.10/dist-packages (from huggingface-hub>=0.4.0->sentence_transformers) (23.2)\n",
            "Requirement already satisfied: sympy in /usr/local/lib/python3.10/dist-packages (from torch>=1.6.0->sentence_transformers) (1.12)\n",
            "Requirement already satisfied: networkx in /usr/local/lib/python3.10/dist-packages (from torch>=1.6.0->sentence_transformers) (3.2.1)\n",
            "Requirement already satisfied: jinja2 in /usr/local/lib/python3.10/dist-packages (from torch>=1.6.0->sentence_transformers) (3.1.2)\n",
            "Requirement already satisfied: triton==2.1.0 in /usr/local/lib/python3.10/dist-packages (from torch>=1.6.0->sentence_transformers) (2.1.0)\n",
            "Requirement already satisfied: regex!=2019.12.17 in /usr/local/lib/python3.10/dist-packages (from transformers<5.0.0,>=4.6.0->sentence_transformers) (2023.6.3)\n",
            "Requirement already satisfied: tokenizers<0.19,>=0.14 in /usr/local/lib/python3.10/dist-packages (from transformers<5.0.0,>=4.6.0->sentence_transformers) (0.15.0)\n",
            "Requirement already satisfied: safetensors>=0.3.1 in /usr/local/lib/python3.10/dist-packages (from transformers<5.0.0,>=4.6.0->sentence_transformers) (0.4.1)\n",
            "Requirement already satisfied: click in /usr/local/lib/python3.10/dist-packages (from nltk->sentence_transformers) (8.1.7)\n",
            "Requirement already satisfied: joblib in /usr/local/lib/python3.10/dist-packages (from nltk->sentence_transformers) (1.3.2)\n",
            "Requirement already satisfied: threadpoolctl>=2.0.0 in /usr/local/lib/python3.10/dist-packages (from scikit-learn->sentence_transformers) (3.2.0)\n",
            "Requirement already satisfied: pillow!=8.3.*,>=5.3.0 in /usr/local/lib/python3.10/dist-packages (from torchvision->sentence_transformers) (9.4.0)\n",
            "Requirement already satisfied: MarkupSafe>=2.0 in /usr/local/lib/python3.10/dist-packages (from jinja2->torch>=1.6.0->sentence_transformers) (2.1.3)\n",
            "Requirement already satisfied: charset-normalizer<4,>=2 in /usr/local/lib/python3.10/dist-packages (from requests->huggingface-hub>=0.4.0->sentence_transformers) (3.3.2)\n",
            "Requirement already satisfied: idna<4,>=2.5 in /usr/local/lib/python3.10/dist-packages (from requests->huggingface-hub>=0.4.0->sentence_transformers) (3.6)\n",
            "Requirement already satisfied: urllib3<3,>=1.21.1 in /usr/local/lib/python3.10/dist-packages (from requests->huggingface-hub>=0.4.0->sentence_transformers) (2.0.7)\n",
            "Requirement already satisfied: certifi>=2017.4.17 in /usr/local/lib/python3.10/dist-packages (from requests->huggingface-hub>=0.4.0->sentence_transformers) (2023.11.17)\n",
            "Requirement already satisfied: mpmath>=0.19 in /usr/local/lib/python3.10/dist-packages (from sympy->torch>=1.6.0->sentence_transformers) (1.3.0)\n"
          ]
        }
      ],
      "source": [
        "!pip install sentence_transformers"
      ]
    },
    {
      "cell_type": "code",
      "execution_count": 79,
      "metadata": {
        "colab": {
          "base_uri": "https://localhost:8080/"
        },
        "id": "oMtt1aQGsgZD",
        "outputId": "d36ed40b-5557-4251-d2b1-952114951ad4"
      },
      "outputs": [
        {
          "name": "stdout",
          "output_type": "stream",
          "text": [
            "Requirement already satisfied: PyPDF2 in /usr/local/lib/python3.10/dist-packages (3.0.1)\n"
          ]
        }
      ],
      "source": [
        "!pip install PyPDF2"
      ]
    },
    {
      "cell_type": "code",
      "execution_count": 80,
      "metadata": {
        "id": "-BcMWdGek28a"
      },
      "outputs": [],
      "source": [
        "import json\n",
        "import torch\n",
        "from torch.utils.data import DataLoader, RandomSampler, SequentialSampler\n",
        "from transformers import BertTokenizer, BertForQuestionAnswering, AdamW\n",
        "from transformers import get_linear_schedule_with_warmup\n",
        "from sklearn.model_selection import train_test_split\n",
        "from transformers import BertTokenizerFast\n",
        "import matplotlib.pyplot as plt\n",
        "from sentence_transformers import SentenceTransformer, util\n",
        "from transformers import pipeline\n"
      ]
    },
    {
      "cell_type": "code",
      "execution_count": 81,
      "metadata": {
        "id": "_6kGAHnUmDQQ"
      },
      "outputs": [],
      "source": [
        "\n",
        "# Load your dataset\n",
        "with open('dataset_edited.json', 'r') as file:\n",
        "    dataset = json.load(file)['data']\n"
      ]
    },
    {
      "cell_type": "code",
      "execution_count": 82,
      "metadata": {
        "id": "TSopYvsGmiZa"
      },
      "outputs": [],
      "source": [
        "\n",
        "# Extract contexts, questions, and answers\n",
        "contexts = [item['context'] for item in dataset]\n",
        "questions = [item['qas'][0]['question'] for item in dataset]\n",
        "answers = [item['qas'][0]['answers'][0] for item in dataset]\n"
      ]
    },
    {
      "cell_type": "code",
      "execution_count": 83,
      "metadata": {
        "id": "hY5P3LPemjuU"
      },
      "outputs": [],
      "source": [
        "\n",
        "# Initialize the tokenizer\n",
        "tokenizer = BertTokenizer.from_pretrained('bert-base-uncased')\n"
      ]
    },
    {
      "cell_type": "code",
      "execution_count": 84,
      "metadata": {
        "id": "KtFEgsL0mlRY"
      },
      "outputs": [],
      "source": [
        "\n",
        "\n",
        "# Initialize the tokenizer (use BertTokenizerFast)\n",
        "tokenizer = BertTokenizerFast.from_pretrained('bert-base-uncased')\n",
        "\n",
        "# Updated tokenize_and_align_labels function\n",
        "def tokenize_and_align_labels(tokenizer, texts, questions, answers):\n",
        "    input_ids = []\n",
        "    attention_masks = []\n",
        "    start_positions = []\n",
        "    end_positions = []\n",
        "\n",
        "    for text, question, answer in zip(texts, questions, answers):\n",
        "        # Tokenize and encode the context and question\n",
        "        encoded_dict = tokenizer.encode_plus(\n",
        "            question, text,\n",
        "            truncation='only_second',  # Truncate only the context, not the question\n",
        "            max_length=512,\n",
        "            padding='max_length',\n",
        "            return_tensors='pt',\n",
        "            return_offsets_mapping=True\n",
        "        )\n",
        "        offset_mapping = encoded_dict['offset_mapping'].squeeze()\n",
        "\n",
        "        # Find the position of the answer in the context\n",
        "        answer_start = answer['answer_start']\n",
        "        answer_end = answer_start + len(answer['text']) - 1\n",
        "\n",
        "        # Find the token positions of the start and end of the answer\n",
        "        start_position = 0\n",
        "        end_position = 0\n",
        "        for i, (start, end) in enumerate(offset_mapping):\n",
        "            if (start <= answer_start) and (answer_start < end):\n",
        "                start_position = i\n",
        "            if (start <= answer_end) and (answer_end < end):\n",
        "                end_position = i\n",
        "                break\n",
        "\n",
        "        input_ids.append(encoded_dict['input_ids'])\n",
        "        attention_masks.append(encoded_dict['attention_mask'])\n",
        "        start_positions.append(start_position)\n",
        "        end_positions.append(end_position)\n",
        "\n",
        "    # Convert lists to tensors\n",
        "    input_ids = torch.cat(input_ids, dim=0)\n",
        "    attention_masks = torch.cat(attention_masks, dim=0)\n",
        "    start_positions = torch.tensor(start_positions)\n",
        "    end_positions = torch.tensor(end_positions)\n",
        "\n",
        "    return {\n",
        "        'input_ids': input_ids,\n",
        "        'attention_mask': attention_masks,\n",
        "        'start_positions': start_positions,\n",
        "        'end_positions': end_positions\n",
        "    }\n",
        "\n"
      ]
    },
    {
      "cell_type": "code",
      "execution_count": 85,
      "metadata": {
        "id": "HWtxBr2jmnnY"
      },
      "outputs": [],
      "source": [
        "\n",
        "# Split data into train and validation sets\n",
        "train_contexts, val_contexts, train_questions, val_questions, train_answers, val_answers = train_test_split(\n",
        "    contexts, questions, answers, test_size=0.1\n",
        ")\n"
      ]
    },
    {
      "cell_type": "code",
      "execution_count": 86,
      "metadata": {
        "id": "jeLFynILmqAY"
      },
      "outputs": [],
      "source": [
        "\n",
        "# Tokenize train and validation data\n",
        "train_encodings = tokenize_and_align_labels(tokenizer, train_contexts, train_questions, train_answers)\n",
        "val_encodings = tokenize_and_align_labels(tokenizer, val_contexts, val_questions, val_answers)\n"
      ]
    },
    {
      "cell_type": "code",
      "execution_count": 87,
      "metadata": {
        "id": "1Q5MYEoXmrHF"
      },
      "outputs": [],
      "source": [
        "\n",
        "# Create torch dataset\n",
        "class SquadDataset(torch.utils.data.Dataset):\n",
        "    def __init__(self, encodings):\n",
        "        self.encodings = encodings\n",
        "\n",
        "    def __getitem__(self, idx):\n",
        "        return {key: torch.tensor(val[idx]) for key, val in self.encodings.items()}\n",
        "\n",
        "    def __len__(self):\n",
        "        return len(self.encodings['input_ids'])\n"
      ]
    },
    {
      "cell_type": "code",
      "execution_count": 88,
      "metadata": {
        "id": "yQoemn8hmtVX"
      },
      "outputs": [],
      "source": [
        "\n",
        "train_dataset = SquadDataset(train_encodings)\n",
        "val_dataset = SquadDataset(val_encodings)\n"
      ]
    },
    {
      "cell_type": "code",
      "execution_count": 89,
      "metadata": {
        "colab": {
          "base_uri": "https://localhost:8080/"
        },
        "id": "LReIKXLTmuTv",
        "outputId": "aec92052-ad63-4ff4-9cf9-46bc7ffd6de2"
      },
      "outputs": [
        {
          "name": "stderr",
          "output_type": "stream",
          "text": [
            "Some weights of BertForQuestionAnswering were not initialized from the model checkpoint at bert-base-uncased and are newly initialized: ['qa_outputs.bias', 'qa_outputs.weight']\n",
            "You should probably TRAIN this model on a down-stream task to be able to use it for predictions and inference.\n",
            "/usr/local/lib/python3.10/dist-packages/transformers/optimization.py:411: FutureWarning: This implementation of AdamW is deprecated and will be removed in a future version. Use the PyTorch implementation torch.optim.AdamW instead, or set `no_deprecation_warning=True` to disable this warning\n",
            "  warnings.warn(\n"
          ]
        }
      ],
      "source": [
        "\n",
        "# Model Initialization\n",
        "device = torch.device('cuda' if torch.cuda.is_available() else 'cpu')\n",
        "model = BertForQuestionAnswering.from_pretrained('bert-base-uncased').to(device)\n",
        "\n",
        "# DataLoader, Optimizer, and Scheduler setup\n",
        "train_loader = DataLoader(train_dataset, batch_size=8, shuffle=True)\n",
        "val_loader = DataLoader(val_dataset, batch_size=8, shuffle=False)\n",
        "\n",
        "# optimizer = AdamW(model.parameters(), lr=5e-3)\n",
        "optimizer = AdamW(model.parameters(), lr=5e-4)\n",
        "\n",
        "scheduler = get_linear_schedule_with_warmup(optimizer, num_warmup_steps=0, num_training_steps=len(train_loader) * 3)"
      ]
    },
    {
      "cell_type": "code",
      "execution_count": 90,
      "metadata": {
        "colab": {
          "base_uri": "https://localhost:8080/",
          "height": 628
        },
        "id": "CqzpdWRRqQLM",
        "outputId": "39174c22-e169-4ebc-9af9-01b81fb518c1"
      },
      "outputs": [
        {
          "name": "stderr",
          "output_type": "stream",
          "text": [
            "<ipython-input-87-8da84fce7490>:7: UserWarning: To copy construct from a tensor, it is recommended to use sourceTensor.clone().detach() or sourceTensor.clone().detach().requires_grad_(True), rather than torch.tensor(sourceTensor).\n",
            "  return {key: torch.tensor(val[idx]) for key, val in self.encodings.items()}\n"
          ]
        },
        {
          "name": "stdout",
          "output_type": "stream",
          "text": [
            "Epoch 1: Loss 3.059794942183154\n",
            "Epoch 2: Loss 2.1532092733042583\n",
            "Epoch 3: Loss 1.0839301508053072\n",
            "Epoch 4: Loss 0.5093350281406727\n",
            "Epoch 5: Loss 0.5169158999009856\n"
          ]
        },
        {
          "data": {
            "image/png": "[encoded data removed]",
            "text/plain": [
              "<Figure size 1000x500 with 1 Axes>"
            ]
          },
          "metadata": {},
          "output_type": "display_data"
        }
      ],
      "source": [
        "\n",
        "\n",
        "# Training loop\n",
        "model.train()\n",
        "losses = []  # List to store the losses for each epoch\n",
        "\n",
        "for epoch in range(5):  # Number of training epochs\n",
        "    epoch_loss = 0.0  # Variable to store the cumulative loss for the epoch\n",
        "\n",
        "    for batch in train_loader:\n",
        "        optimizer.zero_grad()\n",
        "        input_ids = batch['input_ids'].to(device)\n",
        "        attention_mask = batch['attention_mask'].to(device)\n",
        "        start_positions = batch['start_positions'].to(device)\n",
        "        end_positions = batch['end_positions'].to(device)\n",
        "        outputs = model(input_ids, attention_mask=attention_mask, start_positions=start_positions, end_positions=end_positions)\n",
        "        loss = outputs[0]\n",
        "        loss.backward()\n",
        "        optimizer.step()\n",
        "        scheduler.step()\n",
        "\n",
        "        epoch_loss += loss.item()  # Accumulate the batch loss\n",
        "\n",
        "    average_epoch_loss = epoch_loss / len(train_loader)  # Calculate the average epoch loss\n",
        "    losses.append(average_epoch_loss)  # Append it to the list of losses\n",
        "\n",
        "    print(f\"Epoch {epoch+1}: Loss {average_epoch_loss}\")\n",
        "\n",
        "# Plotting epoch vs loss\n",
        "plt.figure(figsize=(10, 5))\n",
        "plt.plot(range(1, len(losses) + 1), losses, marker='o', linestyle='-', color='b')\n",
        "plt.title('Epoch vs Loss')\n",
        "plt.xlabel('Epoch')\n",
        "plt.ylabel('Loss')\n",
        "plt.grid(True)\n",
        "plt.show()\n"
      ]
    },
    {
      "cell_type": "code",
      "execution_count": 127,
      "metadata": {
        "id": "gxoCIf5v7DUM"
      },
      "outputs": [],
      "source": [
        "import pickle\n",
        "\n",
        "with open('model.pkl', 'wb') as file:\n",
        "    pickle.dump(model, file)\n"
      ]
    },
    {
      "cell_type": "code",
      "execution_count": 102,
      "metadata": {
        "colab": {
          "base_uri": "https://localhost:8080/"
        },
        "id": "oz972ljxtGeu",
        "outputId": "f9be4412-5a31-4837-ac99-cf0eeb02c9d9"
      },
      "outputs": [
        {
          "name": "stderr",
          "output_type": "stream",
          "text": [
            "<ipython-input-87-8da84fce7490>:7: UserWarning: To copy construct from a tensor, it is recommended to use sourceTensor.clone().detach() or sourceTensor.clone().detach().requires_grad_(True), rather than torch.tensor(sourceTensor).\n",
            "  return {key: torch.tensor(val[idx]) for key, val in self.encodings.items()}\n"
          ]
        },
        {
          "name": "stdout",
          "output_type": "stream",
          "text": [
            "Total Matches: 64\n",
            "Accuracy: 64.0\n"
          ]
        }
      ],
      "source": [
        "# Evaluation loop\n",
        "model.eval()\n",
        "total = 0\n",
        "match_count = 0\n",
        "model_st = SentenceTransformer('paraphrase-MiniLM-L6-v2')\n",
        "\n",
        "with torch.no_grad():\n",
        "    for batch in val_loader:\n",
        "        try:\n",
        "            input_ids = batch['input_ids'].to(device)\n",
        "            attention_mask = batch['attention_mask'].to(device)\n",
        "            start_positions = batch['start_positions'].to(device)\n",
        "            end_positions = batch['end_positions'].to(device)\n",
        "            outputs = model(input_ids, attention_mask=attention_mask)\n",
        "            start_preds = torch.argmax(outputs['start_logits'], dim=1)\n",
        "            end_preds = torch.argmax(outputs['end_logits'], dim=1)\n",
        "\n",
        "            # Convert the start and end positions to lists\n",
        "            start_positions = start_positions.tolist()\n",
        "            end_positions = end_positions.tolist()\n",
        "\n",
        "            for i in range(len(start_preds)):\n",
        "                pred_answer = tokenizer.decode(input_ids[i][start_preds[i]:end_preds[i]+1])\n",
        "                true_answer = tokenizer.decode(input_ids[i][start_positions[i]:end_positions[i]+1])\n",
        "                predicted_answers.append(pred_answer)\n",
        "                actual_answers.append(true_answer)\n",
        "\n",
        "                # Encode statements\n",
        "                embedding1 = model_st.encode(pred_answer, convert_to_tensor=True)\n",
        "                embedding2 = model_st.encode(true_answer, convert_to_tensor=True)\n",
        "\n",
        "                # Compute cosine similarity\n",
        "                cosine_similarity = util.pytorch_cos_sim(embedding1, embedding2)\n",
        "\n",
        "                # Check if similarity score is more than 0.50\n",
        "                if cosine_similarity.item() > 0.50:\n",
        "                    match_count += 1\n",
        "\n",
        "            total += input_ids.size(0)\n",
        "        except Exception as e:\n",
        "            print(f\"An error occurred: {e}\")\n",
        "Finetuned_accuracy=match_count*100 / total\n",
        "# Print the total matches\n",
        "print(f\"Total Matches: {match_count}\")\n",
        "print(\"Accuracy:\", Finetuned_accuracy)\n"
      ]
    },
    {
      "cell_type": "markdown",
      "metadata": {
        "id": "saHQxxext1M1"
      },
      "source": [
        "Training on pretrained model"
      ]
    },
    {
      "cell_type": "code",
      "execution_count": 94,
      "metadata": {
        "colab": {
          "base_uri": "https://localhost:8080/"
        },
        "id": "-iQUUN18tbNz",
        "outputId": "05a5c109-6675-4441-9d23-cba07de42d60"
      },
      "outputs": [
        {
          "name": "stderr",
          "output_type": "stream",
          "text": [
            "Some weights of BertForQuestionAnswering were not initialized from the model checkpoint at bert-base-uncased and are newly initialized: ['qa_outputs.bias', 'qa_outputs.weight']\n",
            "You should probably TRAIN this model on a down-stream task to be able to use it for predictions and inference.\n"
          ]
        }
      ],
      "source": [
        "# Model Initialization\n",
        "device = torch.device('cuda' if torch.cuda.is_available() else 'cpu')\n",
        "model_pt = BertForQuestionAnswering.from_pretrained('bert-base-uncased').to(device)\n"
      ]
    },
    {
      "cell_type": "code",
      "execution_count": 95,
      "metadata": {
        "colab": {
          "base_uri": "https://localhost:8080/"
        },
        "id": "5A9tvTqltbEE",
        "outputId": "0c0ded53-6a7d-4b78-923d-0f48ee9b2bdb"
      },
      "outputs": [
        {
          "name": "stderr",
          "output_type": "stream",
          "text": [
            "<ipython-input-87-8da84fce7490>:7: UserWarning: To copy construct from a tensor, it is recommended to use sourceTensor.clone().detach() or sourceTensor.clone().detach().requires_grad_(True), rather than torch.tensor(sourceTensor).\n",
            "  return {key: torch.tensor(val[idx]) for key, val in self.encodings.items()}\n"
          ]
        },
        {
          "name": "stdout",
          "output_type": "stream",
          "text": [
            "Epoch 1: Loss 6.2310298553534915\n",
            "Epoch 2: Loss 6.227458208799362\n",
            "Epoch 3: Loss 6.227775739771979\n",
            "Epoch 4: Loss 6.225178641932351\n",
            "Epoch 5: Loss 6.2252702329839975\n"
          ]
        }
      ],
      "source": [
        "# Training loop\n",
        "model_pt.train()\n",
        "losses = []  # List to store the losses for each epoch\n",
        "\n",
        "for epoch in range(5):  # Number of training epochs\n",
        "    epoch_loss = 0.0  # Variable to store the cumulative loss for the epoch\n",
        "\n",
        "    for batch in train_loader:\n",
        "        optimizer.zero_grad()\n",
        "        input_ids = batch['input_ids'].to(device)\n",
        "        attention_mask = batch['attention_mask'].to(device)\n",
        "        start_positions = batch['start_positions'].to(device)\n",
        "        end_positions = batch['end_positions'].to(device)\n",
        "        outputs = model_pt(input_ids, attention_mask=attention_mask, start_positions=start_positions, end_positions=end_positions)\n",
        "        loss = outputs[0]\n",
        "        loss.backward()\n",
        "        optimizer.step()\n",
        "        scheduler.step()\n",
        "\n",
        "        epoch_loss += loss.item()  # Accumulate the batch loss\n",
        "\n",
        "    average_epoch_loss = epoch_loss / len(train_loader)  # Calculate the average epoch loss\n",
        "    losses.append(average_epoch_loss)  # Append it to the list of losses\n",
        "\n",
        "    print(f\"Epoch {epoch+1}: Loss {average_epoch_loss}\")\n"
      ]
    },
    {
      "cell_type": "code",
      "execution_count": 99,
      "metadata": {
        "colab": {
          "base_uri": "https://localhost:8080/",
          "height": 487
        },
        "id": "Gm0gZodhyKdP",
        "outputId": "de8bd747-5ac2-4864-d2cb-f1f67730e9d6"
      },
      "outputs": [
        {
          "data": {
            "image/png": "[encoded data removed]",
            "text/plain": [
              "<Figure size 1000x500 with 1 Axes>"
            ]
          },
          "metadata": {},
          "output_type": "display_data"
        }
      ],
      "source": [
        "# Plotting epoch vs loss\n",
        "plt.figure(figsize=(10, 5))\n",
        "plt.plot(range(1, len(losses) + 1), losses, marker='o', linestyle='-', color='b')\n",
        "plt.title('Epoch vs Loss')\n",
        "plt.xlabel('Epoch')\n",
        "plt.ylabel('Loss')\n",
        "plt.grid(True)\n",
        "plt.show()"
      ]
    },
    {
      "cell_type": "code",
      "execution_count": 101,
      "metadata": {
        "colab": {
          "base_uri": "https://localhost:8080/"
        },
        "id": "5dl1ur6Nt7tr",
        "outputId": "e8aca538-613b-4a3c-bf3b-5d02e63a8a1f"
      },
      "outputs": [
        {
          "name": "stderr",
          "output_type": "stream",
          "text": [
            "<ipython-input-87-8da84fce7490>:7: UserWarning: To copy construct from a tensor, it is recommended to use sourceTensor.clone().detach() or sourceTensor.clone().detach().requires_grad_(True), rather than torch.tensor(sourceTensor).\n",
            "  return {key: torch.tensor(val[idx]) for key, val in self.encodings.items()}\n"
          ]
        },
        {
          "name": "stdout",
          "output_type": "stream",
          "text": [
            "Total Matches: 9\n",
            "Accuracy : 9.0\n"
          ]
        }
      ],
      "source": [
        "\n",
        "# Evaluation loop\n",
        "model_pt.eval()\n",
        "total = 0\n",
        "match_count_qa = 0\n",
        "match_count_st = 0\n",
        "model_st = SentenceTransformer('paraphrase-MiniLM-L6-v2')\n",
        "predicted_answers=[]\n",
        "actual_answers=[]\n",
        "with torch.no_grad():\n",
        "    for batch in val_loader:\n",
        "        try:\n",
        "            input_ids = batch['input_ids'].to(device)\n",
        "            attention_mask = batch['attention_mask'].to(device)\n",
        "            start_positions = batch['start_positions'].to(device)\n",
        "            end_positions = batch['end_positions'].to(device)\n",
        "            outputs = model_pt(input_ids, attention_mask=attention_mask)\n",
        "            start_preds = torch.argmax(outputs['start_logits'], dim=1)\n",
        "            end_preds = torch.argmax(outputs['end_logits'], dim=1)\n",
        "\n",
        "            # Convert the start and end positions to lists\n",
        "            start_positions = start_positions.tolist()\n",
        "            end_positions = end_positions.tolist()\n",
        "\n",
        "            for i in range(len(start_preds)):\n",
        "                pred_answer = tokenizer.decode(input_ids[i][start_preds[i]:end_preds[i] + 1])\n",
        "                true_answer = tokenizer.decode(input_ids[i][start_positions[i]:end_positions[i] + 1])\n",
        "                predicted_answers.append(pred_answer)\n",
        "                actual_answers.append(true_answer)\n",
        "\n",
        "                # Check QA model match\n",
        "                if pred_answer == true_answer:\n",
        "                    match_count_qa += 1\n",
        "\n",
        "                # Encode statements\n",
        "                embedding1 = model_st.encode(pred_answer, convert_to_tensor=True)\n",
        "                embedding2 = model_st.encode(true_answer, convert_to_tensor=True)\n",
        "\n",
        "                # Compute cosine similarity\n",
        "                cosine_similarity = util.pytorch_cos_sim(embedding1, embedding2)\n",
        "\n",
        "                # Check if SentenceTransformer model match\n",
        "                if cosine_similarity.item() > 0.50:\n",
        "                    match_count_st += 1\n",
        "\n",
        "            total += input_ids.size(0)\n",
        "        except Exception as e:\n",
        "            print(f\"An error occurred: {e}\")\n",
        "\n",
        "Pretrained_accuracy=match_count_st *100 / total\n",
        "print(f\"Total Matches: {match_count_st}\")\n",
        "print(f\"Accuracy : {Pretrained_accuracy}\")\n"
      ]
    },
    {
      "cell_type": "code",
      "execution_count": 115,
      "metadata": {
        "colab": {
          "base_uri": "https://localhost:8080/",
          "height": 564
        },
        "id": "5tuCMqf_tbAs",
        "outputId": "2526b4e6-be3b-40eb-eef8-c0e3abbaa5ec"
      },
      "outputs": [
        {
          "data": {
            "image/png": "[encoded data removed]",
            "text/plain": [
              "<Figure size 600x600 with 1 Axes>"
            ]
          },
          "metadata": {},
          "output_type": "display_data"
        }
      ],
      "source": [
        "import matplotlib.pyplot as plt\n",
        "\n",
        "# Data\n",
        "labels = ['Finetuned','Pretrained']\n",
        "values = [Finetuned_accuracy, Pretrained_accuracy]  # acc and pre values\n",
        "colors = ['green','red']  # Different colors for each bar\n",
        "\n",
        "bar_width=0.3\n",
        "plt.figure(figsize=(6, 6))\n",
        "bars = plt.bar(labels, values, color=colors)\n",
        "plt.xlabel('Models')\n",
        "plt.ylabel('Accuracy')\n",
        "plt.title('Comparison of Pretrained and Finetuned Models Accuracy')\n",
        "\n",
        "# Adding the text on top of each bar\n",
        "for bar in bars:\n",
        "    yval = bar.get_height()\n",
        "    plt.text(bar.get_x() + bar.get_width()/2, yval, f\"{round(yval, 2)}%\", va='bottom', ha='center')\n",
        "\n",
        "# Show the plot\n",
        "plt.show()\n",
        "\n"
      ]
    },
    {
      "cell_type": "code",
      "execution_count": 41,
      "metadata": {
        "colab": {
          "base_uri": "https://localhost:8080/"
        },
        "id": "nQXR4c5SQnLA",
        "outputId": "358510d6-6932-41f3-a582-eec285d2b72c"
      },
      "outputs": [
        {
          "data": {
            "text/plain": [
              "80"
            ]
          },
          "execution_count": 41,
          "metadata": {},
          "output_type": "execute_result"
        }
      ],
      "source": [
        "len(incorrect_predictions)"
      ]
    },
    {
      "cell_type": "markdown",
      "metadata": {
        "id": "rVM7taN90O9x"
      },
      "source": [
        "# Post Processing"
      ]
    },
    {
      "cell_type": "code",
      "execution_count": 128,
      "metadata": {
        "id": "pWvA9WQNnOwM"
      },
      "outputs": [],
      "source": [
        "import PyPDF2\n",
        "import re\n",
        "# Function to extract text from PDF\n",
        "def extract_text_from_pdf(pdf_path):\n",
        "    with open(pdf_path, 'rb') as file:\n",
        "        reader = PyPDF2.PdfReader(file)\n",
        "        text = [reader.pages[i].extract_text() for i in range (len(reader.pages))]\n",
        "        return \"\\n\\n\".join(text)  # Use double newline as paragraph delimiter\n",
        "\n",
        "# Function to split text into paragraphs\n",
        "def split_into_paragraphs(text, delimiter='\\n\\n'):\n",
        "    return text.split(delimiter)\n",
        "def find_relevant_paragraph(question, paragraphs, keyword_threshold=0.3):\n",
        "    # Tokenize and preprocess the question\n",
        "    question_tokens = re.findall(r'\\b\\w+\\b', question.lower())\n",
        "\n",
        "    # Calculate relevance score for each paragraph based on keyword matching\n",
        "    relevance_scores = []\n",
        "    for paragraph in paragraphs:\n",
        "        paragraph_tokens = re.findall(r'\\b\\w+\\b', paragraph.lower())\n",
        "        common_keywords = set(question_tokens).intersection(paragraph_tokens)\n",
        "        relevance_score = len(common_keywords) / len(question_tokens)\n",
        "        relevance_scores.append(relevance_score)\n",
        "\n",
        "    # Find the index of the paragraph with the highest relevance score\n",
        "    most_relevant_idx = relevance_scores.index(max(relevance_scores))\n",
        "\n",
        "    # Check if the relevance score meets the threshold\n",
        "    if relevance_scores[most_relevant_idx] >= keyword_threshold:\n",
        "        return paragraphs[most_relevant_idx]\n",
        "    else:\n",
        "        # If no paragraph meets the threshold, return None\n",
        "        return None\n",
        "\n",
        "def extract_limited_context(page, num_lines=4):\n",
        "    paragraphs = page.split('\\n\\n')\n",
        "    context = \"\"\n",
        "    for i in range(min(num_lines, len(paragraphs))):\n",
        "        context += paragraphs[i] + '\\n\\n'\n",
        "    return context.strip()\n",
        "# Main function\n",
        "def get_limited_context_for_question(pdf_path, question):\n",
        "    text = extract_text_from_pdf(pdf_path)\n",
        "    paragraphs = split_into_paragraphs(text)\n",
        "    relevant_paragraph = find_relevant_paragraph(question, paragraphs)\n",
        "    limited_context = extract_limited_context(relevant_paragraph)\n",
        "    return limited_context\n"
      ]
    },
    {
      "cell_type": "code",
      "execution_count": 117,
      "metadata": {
        "id": "2e89w3T-nQq4"
      },
      "outputs": [],
      "source": [
        "\n",
        "\n",
        "def context_extraction(context,question,additional_context=10,model=\"distilbert-base-cased-distilled-squad\"):\n",
        "    qa_pipeline = pipeline(\"question-answering\", model=model)\n",
        "    answer = qa_pipeline(question=question, context=context)\n",
        "\n",
        "    # Extract the start and end index of the answer\n",
        "    start_index = answer['start']\n",
        "    end_index = answer['end']\n",
        "\n",
        "    # Split the context into lines or sentences\n",
        "    sentences = context.split('. ')\n",
        "\n",
        "    # Find the sentence that contains the answer\n",
        "    answer_sentence_index = None\n",
        "    char_count = 0\n",
        "    for i, sentence in enumerate(sentences):\n",
        "        char_count += len(sentence) + 2  # Adding 2 for the period and space\n",
        "        if start_index < char_count:\n",
        "            answer_sentence_index = i\n",
        "            break\n",
        "\n",
        "    # Extract surrounding sentences\n",
        "    if answer_sentence_index is not None:\n",
        "        start = max(answer_sentence_index - additional_context, 0)\n",
        "        end = min(answer_sentence_index + additional_context + 1, len(sentences))\n",
        "        extended_context = '. '.join(sentences[start:end])\n",
        "    else:\n",
        "        extended_context = answer['answer']\n",
        "\n",
        "    return extended_context\n"
      ]
    },
    {
      "cell_type": "code",
      "execution_count": 118,
      "metadata": {
        "id": "BZVbiPRJqU6R"
      },
      "outputs": [],
      "source": [
        "def answer_question(question, context, model, tokenizer):\n",
        "    # Tokenize the input question and context\n",
        "    inputs = tokenizer.encode_plus(question, context, add_special_tokens=True, return_tensors=\"pt\", truncation=True, max_length=512)\n",
        "    input_ids = inputs[\"input_ids\"].to(device)\n",
        "    attention_mask = inputs[\"attention_mask\"].to(device)\n",
        "\n",
        "    # Predict answer spans\n",
        "    model.eval()  # Ensure the model is in evaluation mode\n",
        "    with torch.no_grad():\n",
        "        outputs = model(input_ids, attention_mask=attention_mask)\n",
        "        answer_start_scores = outputs.start_logits\n",
        "        answer_end_scores = outputs.end_logits\n",
        "\n",
        "    # Find the tokens with the highest `start` and `end` scores\n",
        "    answer_start = torch.argmax(answer_start_scores)\n",
        "    answer_end = torch.argmax(answer_end_scores) + 1\n",
        "\n",
        "    # Check if the model found a valid answer (start should be before end)\n",
        "    # if answer_end <= answer_start:\n",
        "    #     return \"Answer not found.\"\n",
        "\n",
        "    # Convert the tokens to the answer text\n",
        "    answer_tokens = input_ids[0][answer_start:answer_end]\n",
        "    answer = tokenizer.convert_tokens_to_string(tokenizer.convert_ids_to_tokens(answer_tokens))\n",
        "\n",
        "    return answer.strip()\n",
        "\n",
        "# # Example usage\n",
        "# context = \"Property and equipment are initially recorded at cost and include land, buildings and improvements, fixtures and equipment, transportation equipment, and construction in progress.\"\n",
        "# question = \"What does Walmart's property and equipment include?\"\n"
      ]
    },
    {
      "cell_type": "code",
      "execution_count": 119,
      "metadata": {
        "id": "pBBjD6o9Y72N"
      },
      "outputs": [],
      "source": [
        "def remove_question_from_answer(question, answer):\n",
        "    # Split the answer on the [SEP] token\n",
        "    parts = answer.split('[SEP]')\n",
        "    # print(parts)\n",
        "    if len(parts) > 1:\n",
        "        # The actual answer should be after the [SEP] token\n",
        "        answer = parts[1].strip()\n",
        "    else:\n",
        "        # If [SEP] is not found, use the original answer\n",
        "        answer = answer.strip()\n",
        "\n",
        "    return answer\n"
      ]
    },
    {
      "cell_type": "markdown",
      "metadata": {
        "id": "tWbv6chhnXhU"
      },
      "source": [
        "## Input the user provided document and question here"
      ]
    },
    {
      "cell_type": "code",
      "execution_count": 124,
      "metadata": {
        "id": "mNCP_-FknQt9"
      },
      "outputs": [],
      "source": [
        "pdf_path = '2022-Annual-Report-disney-testing.pdf'\n",
        "# question = \"How much revenue did Amazon's international consumer segment generate in 2022?\"\n",
        "# question=\"What are the two operational segments of The Walt Disney Company?\"\n",
        "question=\"What types of training and development programs are offered to employees for career growth?\"\n"
      ]
    },
    {
      "cell_type": "code",
      "execution_count": 125,
      "metadata": {
        "colab": {
          "base_uri": "https://localhost:8080/"
        },
        "id": "OY7uneZekEDc",
        "outputId": "b4e48a9d-0da9-4560-a9fb-ca1f9313d9bf"
      },
      "outputs": [
        {
          "name": "stdout",
          "output_type": "stream",
          "text": [
            "•Health, wellness, family resources, and other benefits: Disney’s benefit offerings are designed to meet the varied\n",
            "and evolving needs of a diverse workforce across businesses and geographies while helping our employees care forthemselves and their families. We provide:\n",
            "◦Healthcare options aimed at improving quality of care while limiting out-of-pocket costs\n",
            "◦Family care resources, such as childcare programs for employees, including access to onsite/community centers,\n",
            "enhanced back-up care choices to include personal caregivers, childcare referral assistance and center discounts,homework help, a variety of parenting educational resources and a family building benefit supporting fertilitytreatments, adoptions or surrogacy\n",
            "◦Free mental and behavioral health resources, including on-demand access to the Employee Assistance Program for\n",
            "employees and their dependents\n",
            "◦Two Centers for Living Well that offer convenient, on-demand access to board-certified physicians and counselors\n",
            "◦A multi-layered response to COVID-19, including testing and treatment under all Company medical plans at no\n",
            "cost to employees and dependents\n",
            "◦Global Well-Being Week (introduced in 2022), a dedicated week for employees around the world to celebrate,\n",
            "learn and engage in well-being through in-person and virtual events and activities focused on physical, emotional,financial, and social well-being\n",
            "•Disney Aspire: We support the long-term career aspirations of our hourly employees and further our commitment to\n",
            "strengthening the communities in which we work through our education investment program, Disney Aspire. We pay100% of the tuition costs upfront for participating employees at a variety of in-network learning providers anduniversities and reimburse employees for applicable books and fees. The program helps our employees achieve theirgoals professionally - whether at Disney or beyond - by equipping them with the skills they need to succeed in therapidly changing 21\n",
            "stcentury career landscape. More than 16,000 current employees have enrolled in or graduated\n",
            "from a Disney Aspire program, and more than two-thirds of our program graduates have earned an Associate,Bachelor’s or Master’s degree.\n",
            "•Talent Development: We prioritize and invest in creating opportunities to help employees grow and build their\n",
            "careers through a multitude of training and development programs. These include online, instructor-led and on-the-joblearning formats as well as executive talent and succession planning paired with an individualized developmentapproach.\n",
            "•Social Responsibility and Community: The Company’s longstanding commitment to Corporate Social\n",
            "Responsibility (CSR) helps differentiate the Company as an employer. In 2021, we refreshed our CSR strategy toconnect it more closely with the Company’s mission and commercial offerings and environmental and socialopportunities relevant to our business and employees. Our CSR priorities include diversity, equity, and inclusion;environmental stewardship and conservation; giving back to our communities with a special focus on supportingchildren and families; human capital management; and operating responsibly. The strategy provides a path toembedding these CSR priorities into our offerings and operations in addition to our philanthropy. The Company alsosupports employees who give back to our communities with a generous matching gifts program and a uniqueemployee volunteering program, Disney VoluntEARS, which rewards volunteer hours with the opportunity to directnot-for-profit donations by the Company.\n",
            "Environmental and Sustainability\n",
            "The Company has developed measurable environmental and sustainability goals for 2030, grounded in science and an\n",
            "assessment of where the Company’s operations have the most significant impact on the environment, as well as the areas whereit can most effectively mitigate that impact. These goals include, among others, achieving net zero Scope 1 and 2 greenhousegas emissions for our direct operations, and zero waste to landfill at our wholly owned and operated parks and resorts by 2030.\n",
            "DISNEY MEDIA AND ENTERTAINMENT DISTRIBUTION\n",
            "DMED encompasses the Company’s global film and episodic television content production and distribution activities.\n",
            "Content is distributed by a single organization across three significant lines of business: Linear Networks, Direct-to-Consumerand Content Sales/Licensing. Content is generally created/licensed by four groups: Studios, General Entertainment, Sports andInternational. The distribution organization has full accountability for the financial results of the entire media and entertainmentbusiness.\n",
            "3\n"
          ]
        }
      ],
      "source": [
        "\n",
        "# limited_context = get_limited_context_for_question(pdf_path, question)\n",
        "context= context_extraction(get_limited_context_for_question(pdf_path, question), question)\n",
        "print(context)"
      ]
    },
    {
      "cell_type": "code",
      "execution_count": 126,
      "metadata": {
        "colab": {
          "base_uri": "https://localhost:8080/"
        },
        "id": "d3l0zy-NkKBm",
        "outputId": "61cdde97-f238-486a-bd13-67c79d25da24"
      },
      "outputs": [
        {
          "name": "stdout",
          "output_type": "stream",
          "text": [
            "Answer: • health, wellness, family resources, and other benefits : disney ’ s benefit offerings are designed to meet the varied and evolving needs of a diverse workforce across businesses and geographies while helping our employees care forthemselves and their families. we provide : [UNK] options aimed at improving quality of care while limiting out - of - pocket costs [UNK] care resources, such as childcare programs for employees, including access to onsite / community centers, enhanced back - up care choices to include personal caregivers, childcare referral assistance and center discounts, homework help, a variety of parenting educational resources and a family building benefit supporting fertilitytreatments, adoptions or surrogacy [UNK] mental and behavioral health resources, including on - demand access to the employee assistance program for employees and their dependents [UNK] centers for living well that offer convenient, on - demand access to board - certified physicians and counselors [UNK] multi - layered response to covid - 19, including testing and treatment under all company medical plans at no cost to employees and dependents [UNK] well - being week ( introduced in 2022 ), a dedicated week for employees around the world\n"
          ]
        }
      ],
      "source": [
        "# answer = answer_question(question, context, model, tokenizer)\n",
        "processed_answer = remove_question_from_answer(question, answer_question(question, context, model, tokenizer))\n",
        "print(f\"Answer: {processed_answer}\")"
      ]
    },
    {
      "cell_type": "code",
      "execution_count": 77,
      "metadata": {
        "colab": {
          "base_uri": "https://localhost:8080/"
        },
        "id": "uvGcVTMEn0xP",
        "outputId": "479ca3cb-7f44-48d8-938e-723d0f1dad67"
      },
      "outputs": [
        {
          "name": "stdout",
          "output_type": "stream",
          "text": [
            "Answer: 500 million dollars\n"
          ]
        }
      ],
      "source": [
        "\n",
        "context= \"During the last quarter, Spacely Sprockets' total expenses amounted to 500 million dollars.\"\n",
        "question=\"What was the total expenses of Spacely Sprockets in the last quarter?\"\n",
        "processed_answer = remove_question_from_answer(question, answer_question(question, context, model, tokenizer))\n",
        "print(f\"Answer: {processed_answer}\")\n"
      ]
    }
  ],
  "metadata": {
    "accelerator": "GPU",
    "colab": {
      "gpuType": "T4",
      "provenance": []
    },
    "kernelspec": {
      "display_name": "Python 3",
      "name": "python3"
    },
    "language_info": {
      "name": "python"
    }
  },
  "nbformat": 4,
  "nbformat_minor": 0
}
